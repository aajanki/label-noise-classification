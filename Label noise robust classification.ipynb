{
 "cells": [
  {
   "cell_type": "markdown",
   "metadata": {},
   "source": [
    "# Label-noise robust logistic regression\n",
    "\n",
    "The class labels in the training data are commonly assumed to be perfectly accurate. This is not always a justified assumption. Annotators may have made mistakes for example, because the assignment is not obvious or because the annotator is not an expert on the task.\n",
    "\n",
    "It is possible to reduce the impact of labeling mistakes by changing the assumptions the classifier makes. This notebook explores one way to extend a multiclass logistic regression classifier to account for class-dependent label noise. The robust regression model is evaluated on the iris dataset with added artificial label noise.\n",
    "\n",
    "This is inspired by the [Label-Noise Robust Logistic Regression and Its Applications](https://www.cs.bham.ac.uk/~axk/ecml2012.pdf) paper by Bootkrajang and Kabán (ECML PKDD 2012)."
   ]
  },
  {
   "cell_type": "code",
   "execution_count": 1,
   "metadata": {},
   "outputs": [],
   "source": [
    "%matplotlib inline\n",
    "\n",
    "import pystan\n",
    "import numpy as np\n",
    "import pandas as pd\n",
    "import seaborn as sns\n",
    "import matplotlib.pyplot as plt\n",
    "from sklearn.datasets import load_iris\n",
    "from sklearn.model_selection import StratifiedKFold\n",
    "from sklearn.metrics import classification_report, accuracy_score\n",
    "from sklearn.linear_model import LogisticRegression\n",
    "from sklearn.preprocessing import StandardScaler"
   ]
  },
  {
   "cell_type": "code",
   "execution_count": 2,
   "metadata": {},
   "outputs": [],
   "source": [
    "sns.set(style='white', font_scale=1.2)"
   ]
  },
  {
   "cell_type": "markdown",
   "metadata": {},
   "source": [
    "## Data\n",
    "\n",
    "Let's evaluate robust regression model on the well know iris data set. The data consists of measurements of physical properties (the features) of three iris subspecies (the classes). The data is split into 5 folds. The features are normalized to zero mean and unit variance in each fold."
   ]
  },
  {
   "cell_type": "code",
   "execution_count": 3,
   "metadata": {},
   "outputs": [
    {
     "name": "stdout",
     "output_type": "stream",
     "text": [
      "Train samples: 120\n",
      "Test samples: 30\n",
      "Feature dimensionality: 4\n",
      "Class proportions: setosa: 0.33, versicolor: 0.33, virginica: 0.33\n"
     ]
    }
   ],
   "source": [
    "iris = load_iris()\n",
    "\n",
    "splits = []\n",
    "kf = StratifiedKFold(n_splits=5, shuffle=True, random_state=42)\n",
    "for train_ind, test_ind in kf.split(iris['data'], iris['target']):\n",
    "    scaler = StandardScaler()\n",
    "    X_train = pd.DataFrame(scaler.fit_transform(iris['data'][train_ind]),\n",
    "                           columns=iris['feature_names'])\n",
    "    X_test = pd.DataFrame(scaler.transform(iris['data'][test_ind]),\n",
    "                          columns=iris['feature_names'])\n",
    "    y_train = iris['target'][train_ind]\n",
    "    y_test = iris['target'][test_ind]\n",
    "\n",
    "    splits.append((X_train, X_test, y_train, y_test))\n",
    "\n",
    "X_train0, X_test0, y_train0, y_test0 = splits[0]\n",
    "    \n",
    "print(f'Train samples: {len(y_train0)}')\n",
    "print(f'Test samples: {len(y_test0)}')\n",
    "\n",
    "print(f'Feature dimensionality: {X_train0.shape[1]}')\n",
    "print(f'Class proportions: {iris[\"target_names\"][0]}: {(iris[\"target\"] == 0).mean():.2f}, {iris[\"target_names\"][1]}: {(iris[\"target\"] == 1).mean():.2f}, {iris[\"target_names\"][2]}: {(iris[\"target\"] == 2).mean():.2f}')"
   ]
  },
  {
   "cell_type": "code",
   "execution_count": 4,
   "metadata": {},
   "outputs": [
    {
     "data": {
      "text/html": [
       "<div>\n",
       "<style scoped>\n",
       "    .dataframe tbody tr th:only-of-type {\n",
       "        vertical-align: middle;\n",
       "    }\n",
       "\n",
       "    .dataframe tbody tr th {\n",
       "        vertical-align: top;\n",
       "    }\n",
       "\n",
       "    .dataframe thead th {\n",
       "        text-align: right;\n",
       "    }\n",
       "</style>\n",
       "<table border=\"1\" class=\"dataframe\">\n",
       "  <thead>\n",
       "    <tr style=\"text-align: right;\">\n",
       "      <th></th>\n",
       "      <th>sepal length (cm)</th>\n",
       "      <th>sepal width (cm)</th>\n",
       "      <th>petal length (cm)</th>\n",
       "      <th>petal width (cm)</th>\n",
       "    </tr>\n",
       "  </thead>\n",
       "  <tbody>\n",
       "    <tr>\n",
       "      <th>0</th>\n",
       "      <td>-0.865387</td>\n",
       "      <td>1.078846</td>\n",
       "      <td>-1.340553</td>\n",
       "      <td>-1.319907</td>\n",
       "    </tr>\n",
       "    <tr>\n",
       "      <th>1</th>\n",
       "      <td>-1.107736</td>\n",
       "      <td>-0.081203</td>\n",
       "      <td>-1.340553</td>\n",
       "      <td>-1.319907</td>\n",
       "    </tr>\n",
       "    <tr>\n",
       "      <th>2</th>\n",
       "      <td>-1.350084</td>\n",
       "      <td>0.382816</td>\n",
       "      <td>-1.397719</td>\n",
       "      <td>-1.319907</td>\n",
       "    </tr>\n",
       "    <tr>\n",
       "      <th>3</th>\n",
       "      <td>-1.471259</td>\n",
       "      <td>0.150806</td>\n",
       "      <td>-1.283386</td>\n",
       "      <td>-1.319907</td>\n",
       "    </tr>\n",
       "    <tr>\n",
       "      <th>4</th>\n",
       "      <td>-0.986561</td>\n",
       "      <td>1.310855</td>\n",
       "      <td>-1.340553</td>\n",
       "      <td>-1.319907</td>\n",
       "    </tr>\n",
       "  </tbody>\n",
       "</table>\n",
       "</div>"
      ],
      "text/plain": [
       "   sepal length (cm)  sepal width (cm)  petal length (cm)  petal width (cm)\n",
       "0          -0.865387          1.078846          -1.340553         -1.319907\n",
       "1          -1.107736         -0.081203          -1.340553         -1.319907\n",
       "2          -1.350084          0.382816          -1.397719         -1.319907\n",
       "3          -1.471259          0.150806          -1.283386         -1.319907\n",
       "4          -0.986561          1.310855          -1.340553         -1.319907"
      ]
     },
     "execution_count": 4,
     "metadata": {},
     "output_type": "execute_result"
    }
   ],
   "source": [
    "X_train0.head()"
   ]
  },
  {
   "cell_type": "markdown",
   "metadata": {},
   "source": [
    "## Standard logistic regression\n",
    "\n",
    "The text book logistic regression model assumes that the observed label $y$ has been generated by a categorical logit distribution.\n",
    "\n",
    "![logistic regression plate notation](images/logistic.png)\n",
    "\n",
    "\\begin{equation*}\n",
    "y \\sim \\text{categorical}(\\text{softmax}(\\alpha + \\beta^T X))\n",
    "\\end{equation*}\n",
    "\n",
    "We'll apply weak L2 regularization on the intercept $\\alpha$ and weights $\\beta$ (the C parameter on the scikit-learn class in the code below).\n",
    "\n",
    "The following code block trains a logistic regression on one of the train/test folds."
   ]
  },
  {
   "cell_type": "code",
   "execution_count": 5,
   "metadata": {},
   "outputs": [
    {
     "name": "stdout",
     "output_type": "stream",
     "text": [
      "intercept = [ 0.11030745  3.92254487 -4.03285231]\n",
      "beta = [[-1.61938603  1.80880943 -3.46412771 -3.17887737]\n",
      " [ 1.20355649 -0.31512935 -1.47149401 -1.27889457]\n",
      " [ 0.41582954 -1.49368007  4.93562173  4.45777194]]\n",
      "\n",
      "Train\n",
      "              precision    recall  f1-score   support\n",
      "\n",
      "      setosa       1.00      1.00      1.00        40\n",
      "  versicolor       0.97      0.95      0.96        40\n",
      "   virginica       0.95      0.97      0.96        40\n",
      "\n",
      "    accuracy                           0.97       120\n",
      "   macro avg       0.98      0.97      0.97       120\n",
      "weighted avg       0.98      0.97      0.97       120\n",
      "\n",
      "\n",
      "Test\n",
      "              precision    recall  f1-score   support\n",
      "\n",
      "      setosa       1.00      1.00      1.00        10\n",
      "  versicolor       1.00      1.00      1.00        10\n",
      "   virginica       1.00      1.00      1.00        10\n",
      "\n",
      "    accuracy                           1.00        30\n",
      "   macro avg       1.00      1.00      1.00        30\n",
      "weighted avg       1.00      1.00      1.00        30\n",
      "\n"
     ]
    }
   ],
   "source": [
    "logreg = LogisticRegression(C=10)\n",
    "logreg.fit(X_train0, y_train0)\n",
    "ypred_train = logreg.predict(X_train0)\n",
    "ypred_test = logreg.predict(X_test0)\n",
    "\n",
    "print(f'intercept = {logreg.intercept_}')\n",
    "print(f'beta = {logreg.coef_}')\n",
    "\n",
    "print()\n",
    "print('Train')\n",
    "print(classification_report(y_train0, ypred_train, target_names=iris['target_names']))\n",
    "\n",
    "print()\n",
    "print('Test')\n",
    "print(classification_report(y_test0, ypred_test, target_names=iris['target_names']))"
   ]
  },
  {
   "cell_type": "markdown",
   "metadata": {},
   "source": [
    "## Robust logistic regression\n",
    "\n",
    "The robust logistic regression variant proposed by Bootkrajang and Kabán assumes that the observed labels are corrupted versions of the true labels. The true labels are latent variables generated by the standard logistic regression model. The latent labels are then corrupted by flipping a label to another with a class-dependent probability.\n",
    "\n",
    "The flip probability $p(y = j | z = i)$ is denoted by $\\gamma_{ij}$ below. The flip probabilities are parameters to be estimated during the training. They can be asymmetric, that is, the probability for switching from A to B doesn't have to equal to the B-to-A probability.\n",
    "\n",
    "![robust regression plate notation](images/robust.png)\n",
    "\n",
    "\\begin{align*}\n",
    "z &\\sim \\text{categorical}(\\text{softmax}(\\alpha + \\beta^T X))\\\\\n",
    "y &\\sim \\text{categorical}(\\gamma_{z \\cdot})\n",
    "\\end{align*}\n",
    "\n",
    "By combining the classifier and the noise model into a single unified model, it is possible to learn them jointly. This should lead to more accurate estimates than any process that fits a classifier and identifies noisy samples in separate steps.\n",
    "\n",
    "The following defines and compiles the robust regression as a Stan model. A probabilistic programming language such as Stan allows us to define probabilistic models flexibly and derives necessary update equations automatically.\n",
    "\n",
    "The latent label $z$ is marginalized out by summing over feasible values. We apply the same L2 regularization as before on the regression weights $\\alpha$ and $\\beta$ and a Dirichlet prior on the flip probabilities $\\gamma$."
   ]
  },
  {
   "cell_type": "code",
   "execution_count": 6,
   "metadata": {},
   "outputs": [
    {
     "name": "stderr",
     "output_type": "stream",
     "text": [
      "INFO:pystan:COMPILING THE C++ CODE FOR MODEL anon_model_811ef81dc39844af59dc6dadfede0a89 NOW.\n"
     ]
    }
   ],
   "source": [
    "robust_code = \"\"\"\n",
    "data {\n",
    "    int<lower=0> N;  // number of observations\n",
    "    int<lower=1> D;  // number of predictors\n",
    "    int<lower=2> K;  // number of classes\n",
    "    matrix[N, D] X;\n",
    "    int<lower=1,upper=K> y[N];  // observed (noisy) class labels\n",
    "    real prior_sigma;\n",
    "    real transition_prior;\n",
    "}\n",
    "parameters {\n",
    "    vector[K] alpha;\n",
    "    matrix[D, K] beta;\n",
    "    simplex[K] gamma[K];\n",
    "}\n",
    "model {\n",
    "    matrix[N, K] x_beta = rep_matrix(to_row_vector(alpha), N) + X * beta;\n",
    "    \n",
    "    alpha ~ normal(0, prior_sigma);\n",
    "    to_vector(beta) ~ normal(0, prior_sigma);\n",
    "    for (i in 1:K) {\n",
    "        gamma[i] ~ dirichlet(rep_vector(transition_prior, K));\n",
    "    }\n",
    "\n",
    "    for (n in 1:N) {\n",
    "        vector[K] u = rep_vector(0.0, K);\n",
    "        vector[K] w = softmax(x_beta[n]');\n",
    "        \n",
    "        for (j in 1:K) {\n",
    "            u += w[j] * gamma[j];\n",
    "        }\n",
    "                \n",
    "        y[n] ~ categorical(u);\n",
    "    }\n",
    "}\n",
    "\"\"\"\n",
    "\n",
    "robust_model = pystan.StanModel(model_code=robust_code)"
   ]
  },
  {
   "cell_type": "markdown",
   "metadata": {},
   "source": [
    "This defines a class that adapts a Stan model into a scikit-learn-like interface. A uniform interface simplifies comparison against scikit-learn-provided classifiers. The fit function finds the maximum a posteriori (MAP) estimate for the parameters."
   ]
  },
  {
   "cell_type": "code",
   "execution_count": 7,
   "metadata": {},
   "outputs": [],
   "source": [
    "class StanClassifierAdapter():\n",
    "    def __init__(self, stan_model, prior_sigma=1, transition_prior=1, restarts=1):\n",
    "        \"\"\"An adapter that provides a scikit-learn-like interface to fitting a Stan model.\n",
    "        \n",
    "        stan_model is a compiled Stan model.\n",
    "        prior_sigma is the weight vector prior variance.\n",
    "        transiton_prior is the value of the dirichlet prior for the transtion matrix.\n",
    "        restarts is the number of optimization restarts.\n",
    "        \"\"\"\n",
    "        \n",
    "        self.sm = stan_model\n",
    "        self.intercept_ = None\n",
    "        self.coef_ = None\n",
    "        self.gamma_ = None\n",
    "        self.prior_sigma = prior_sigma\n",
    "        self.transition_prior = transition_prior\n",
    "        self.restarts = restarts\n",
    "\n",
    "    def fit(self, X, y):\n",
    "        \"\"\"Finds the MAP estimate for the parameters.\"\"\"\n",
    "        \n",
    "        K = len(np.unique(y))\n",
    "        data = {\n",
    "            'N': X.shape[0],\n",
    "            'D': X.shape[1],\n",
    "            'K': K,\n",
    "            'X': X,\n",
    "            'y': y + 1,\n",
    "            'prior_sigma': self.prior_sigma,\n",
    "            'transition_prior': self.transition_prior\n",
    "        }\n",
    "        \n",
    "        best_par = None\n",
    "        best_lp = None\n",
    "        for _ in range(max(self.restarts, 1)):\n",
    "            res = self.sm.optimizing(data=data, init=self.param_initializer(K, X.shape[1]), as_vector=False)\n",
    "            if best_lp is None or res['value'] > best_lp:\n",
    "                best_par = res['par']\n",
    "                best_lp = res['value']\n",
    "            \n",
    "        self.intercept_ = best_par['alpha']\n",
    "        self.coef_ = best_par['beta'].T\n",
    "        self.gamma_ = best_par['gamma']\n",
    "\n",
    "    def predict(self, X):\n",
    "        return np.asarray((self.intercept_ + X.dot(self.coef_.T)).idxmax(axis=1))\n",
    "    \n",
    "    def param_initializer(self, num_classes, num_features):\n",
    "        def wrapped():\n",
    "            return {\n",
    "                'alpha': np.random.uniform(-2, 2, num_classes),\n",
    "                'beta': np.random.uniform(-2, 2, (num_features, num_classes)),\n",
    "                'gamma': self.stochastic_identity(num_classes)\n",
    "            }\n",
    "        \n",
    "        return wrapped\n",
    "    \n",
    "    def stochastic_identity(self, size, diag_value=0.99):\n",
    "        X = (1-diag_value)/(size-1)*np.ones((size, size))\n",
    "        np.fill_diagonal(X, diag_value)\n",
    "        return X"
   ]
  },
  {
   "cell_type": "markdown",
   "metadata": {},
   "source": [
    "Let's train the robust model on the same data as before (no added noise, yet). The prediction results and the parameter values match quite closely to the results of the scikit-learn LogisticRegression above. This gives us confidence that the Stan model is implemented correctly because it should find the same solution as the textbook logistic regression (assuming that there are no incorrect labels in the iris dataset!)."
   ]
  },
  {
   "cell_type": "code",
   "execution_count": 8,
   "metadata": {},
   "outputs": [
    {
     "name": "stdout",
     "output_type": "stream",
     "text": [
      "intercept = [ 0.23560824  6.29050177 -6.5266427 ]\n",
      "beta = [[-2.24125814  2.48140163 -5.51396447 -5.01930124]\n",
      " [ 1.90375865 -0.31588353 -2.78321558 -1.66743328]\n",
      " [ 0.33275185 -2.16684769  8.29766167  6.68574798]]\n",
      "gamma = [[0.95345749 0.02328741 0.0232551 ]\n",
      " [0.02332102 0.95113598 0.025543  ]\n",
      " [0.02321743 0.02707082 0.94971175]]\n",
      "\n",
      "Train\n",
      "              precision    recall  f1-score   support\n",
      "\n",
      "      setosa       1.00      1.00      1.00        40\n",
      "  versicolor       0.97      0.97      0.97        40\n",
      "   virginica       0.97      0.97      0.97        40\n",
      "\n",
      "    accuracy                           0.98       120\n",
      "   macro avg       0.98      0.98      0.98       120\n",
      "weighted avg       0.98      0.98      0.98       120\n",
      "\n",
      "\n",
      "Test\n",
      "              precision    recall  f1-score   support\n",
      "\n",
      "      setosa       1.00      1.00      1.00        10\n",
      "  versicolor       1.00      1.00      1.00        10\n",
      "   virginica       1.00      1.00      1.00        10\n",
      "\n",
      "    accuracy                           1.00        30\n",
      "   macro avg       1.00      1.00      1.00        30\n",
      "weighted avg       1.00      1.00      1.00        30\n",
      "\n"
     ]
    }
   ],
   "source": [
    "clf = StanClassifierAdapter(robust_model, prior_sigma=10, transition_prior=2, restarts=6)\n",
    "clf.fit(X_train0, y_train0)\n",
    "\n",
    "ypred_train = clf.predict(X_train0)\n",
    "ypred_test = clf.predict(X_test0)\n",
    "\n",
    "print(f'intercept = {clf.intercept_}')\n",
    "print(f'beta = {clf.coef_}')\n",
    "print(f'gamma = {clf.gamma_}')\n",
    "\n",
    "print()\n",
    "print('Train')\n",
    "print(classification_report(y_train0, ypred_train, target_names=iris['target_names']))\n",
    "\n",
    "print()\n",
    "print('Test')\n",
    "print(classification_report(y_test0, ypred_test, target_names=iris['target_names']))"
   ]
  },
  {
   "cell_type": "markdown",
   "metadata": {},
   "source": [
    "## Evaluation on simulated data\n",
    "\n",
    "We validate the impact of the robustness modeling on simulated data. The robust and standard logistic regression models are compared on different levels of artificially injected label noise. A fixed proportion of class labels is flipped (asymmetrically) to one of the another classes with a probability that depends on the original class. This noise generation process matches exactly the noise assumption of the robust regression model, and therefore this evaluation favors the robust model compared to real life applications with more complicated noise distribution.\n",
    "\n",
    "In real applications, acquiring a test set with clean labels can be a considerable challenge, because the same noise process that has corrupted the training dataset is likely to affect the test set, too. However, a test set with clean labels is necessary for fair evaluation of generalization performance. With artificially injected noise we don't have such challenges. Noise is only inject on the training labels and the trained model is evaluated on noise-free test data."
   ]
  },
  {
   "cell_type": "code",
   "execution_count": 9,
   "metadata": {},
   "outputs": [],
   "source": [
    "def draw_transition_prob(size):\n",
    "    U = np.zeros([size, size])\n",
    "    for i in range(size):\n",
    "        ind = [x for x in range(size) if x != i]\n",
    "        U[i, ind] = np.random.dirichlet(0.5*np.ones(size - 1))\n",
    "    return U\n",
    "\n",
    "def draw_noisy_labels(y_true, noise_prob, transition_prob):\n",
    "    K = transition_prob.shape[0]\n",
    "    N = len(y_true)\n",
    "\n",
    "    y_noisy = np.array(y_true)\n",
    "    for i in np.random.choice(N, size=int(noise_prob*N), replace=False):\n",
    "        y_noisy[i] = np.random.choice(range(K), p=transition_prob[y_true[i], :])\n",
    "\n",
    "    return y_noisy\n",
    "\n",
    "def eval_test_error(clf, X_train, y_train, X_test, y_test):\n",
    "    clf.fit(X_train, y_train)\n",
    "    ypred = clf.predict(X_test)\n",
    "    return 1 - accuracy_score(y_test, ypred)"
   ]
  },
  {
   "cell_type": "code",
   "execution_count": 10,
   "metadata": {},
   "outputs": [],
   "source": [
    "n_repeats = 20\n",
    "noise_proportions = np.array([0, 0.1, 0.2, 0.3, 0.4, 0.5, 0.6])\n",
    "\n",
    "errors = []\n",
    "for i, flip_prob in enumerate(noise_proportions):\n",
    "    for X_train, X_test, y_train, y_test in splits:\n",
    "        for _ in range(n_repeats):\n",
    "            T = draw_transition_prob(3)\n",
    "            y_noisy = draw_noisy_labels(y_train, flip_prob, T)\n",
    "            noise_level = 1.0 - (y_noisy == y_train).mean()\n",
    "\n",
    "            robust = StanClassifierAdapter(robust_model, prior_sigma=10, transition_prior=2, restarts=6)\n",
    "            r_err = eval_test_error(robust, X_train, y_noisy, X_test, y_test)\n",
    "            errors.append({\n",
    "                'Model': 'Robust regression',\n",
    "                'Noise level (%)': 100*noise_level,\n",
    "                'Test error (%)': 100*r_err\n",
    "            })\n",
    "\n",
    "            logreg = LogisticRegression(C=10)\n",
    "            r_err = eval_test_error(logreg, X_train, y_noisy, X_test, y_test)\n",
    "            errors.append({\n",
    "                'Model': 'Logistic regression',\n",
    "                'Noise level (%)': 100*noise_level,\n",
    "                'Test error (%)': 100*r_err\n",
    "            })\n",
    "\n",
    "errors = pd.DataFrame(errors)"
   ]
  },
  {
   "cell_type": "markdown",
   "metadata": {},
   "source": [
    "The following plot displays the accuracy of the two models on the test set at different noise levels. The shaded region is the variation due different train/test splits and different draws of noise matrix (but excluding posterior uncertainty because the model is learned as a point estimate).\n",
    "\n",
    "The robust model performs very close to the noise-free condition when 10% of labels are changed. The performance of the standard logistic regression model has already deteriorated quite much at the same amount of noise. Even when 30% of labels are changed to be incorrect, the robust classifier attains a test error below 10%."
   ]
  },
  {
   "cell_type": "code",
   "execution_count": 11,
   "metadata": {},
   "outputs": [
    {
     "data": {
      "image/png": "[encoded data removed]",
      "text/plain": [
       "<Figure size 604.77x432 with 1 Axes>"
      ]
     },
     "metadata": {},
     "output_type": "display_data"
    }
   ],
   "source": [
    "g = sns.relplot(x='Noise level (%)', y='Test error (%)', hue='Model', kind='line', data=errors, height=6)\n",
    "g.ax.grid(axis='y', linestyle='--')"
   ]
  },
  {
   "cell_type": "code",
   "execution_count": null,
   "metadata": {},
   "outputs": [],
   "source": []
  }
 ],
 "metadata": {
  "kernelspec": {
   "display_name": "Python 3",
   "language": "python",
   "name": "python3"
  },
  "language_info": {
   "codemirror_mode": {
    "name": "ipython",
    "version": 3
   },
   "file_extension": ".py",
   "mimetype": "text/x-python",
   "name": "python",
   "nbconvert_exporter": "python",
   "pygments_lexer": "ipython3",
   "version": "3.7.6"
  }
 },
 "nbformat": 4,
 "nbformat_minor": 2
}
